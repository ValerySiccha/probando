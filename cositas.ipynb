{
 "cells": [
  {
   "cell_type": "code",
   "execution_count": 1,
   "id": "af840002",
   "metadata": {},
   "outputs": [
    {
     "name": "stdout",
     "output_type": "stream",
     "text": [
      "Llamen a Dios xd\n"
     ]
    }
   ],
   "source": [
    "print(\"Llamen a Dios xd\")"
   ]
  },
  {
   "cell_type": "code",
   "execution_count": 1,
   "id": "08092ae2",
   "metadata": {},
   "outputs": [
    {
     "name": "stdout",
     "output_type": "stream",
     "text": [
      "Hola diosito\n"
     ]
    }
   ],
   "source": [
    "print(\"Hola diosito\")"
   ]
  },
  {
   "cell_type": "code",
   "execution_count": 2,
   "id": "96b4f7dd",
   "metadata": {},
   "outputs": [
    {
     "name": "stdout",
     "output_type": "stream",
     "text": [
      "adios diosito\n"
     ]
    }
   ],
   "source": [
    "print(\"adios diosito\")"
   ]
  },
  {
   "cell_type": "code",
   "execution_count": null,
   "id": "5cfeae46",
   "metadata": {},
   "outputs": [],
   "source": []
  }
 ],
 "metadata": {
  "kernelspec": {
   "display_name": "conda_python3",
   "language": "python",
   "name": "conda_python3"
  },
  "language_info": {
   "codemirror_mode": {
    "name": "ipython",
    "version": 3
   },
   "file_extension": ".py",
   "mimetype": "text/x-python",
   "name": "python",
   "nbconvert_exporter": "python",
   "pygments_lexer": "ipython3",
   "version": "3.10.10"
  }
 },
 "nbformat": 4,
 "nbformat_minor": 5
}
